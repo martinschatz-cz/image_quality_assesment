{
 "cells": [
  {
   "cell_type": "markdown",
   "metadata": {
    "id": "Xwj56JFgBGpW"
   },
   "source": [
    "Install pyimagequality ranking package"
   ]
  },
  {
   "cell_type": "code",
   "execution_count": 1,
   "metadata": {
    "colab": {
     "base_uri": "https://localhost:8080/"
    },
    "id": "LVg9LeOavGJR",
    "outputId": "0a3b91c0-0b36-4df4-b694-6cce0e3d96b5",
    "tags": []
   },
   "outputs": [
    {
     "name": "stdout",
     "output_type": "stream",
     "text": [
      "Collecting git+https://github.com/sakoho81/pyimagequalityranking.git\n",
      "  Cloning https://github.com/sakoho81/pyimagequalityranking.git to c:\\users\\schatzm\\appdata\\local\\temp\\pip-req-build-5nn0if_1\n",
      "  Resolved https://github.com/sakoho81/pyimagequalityranking.git to commit 094b0b9f79f7f78853a79d71be686f91491e0574\n",
      "  Preparing metadata (setup.py): started\n",
      "  Preparing metadata (setup.py): finished with status 'done'\n",
      "Requirement already satisfied: numpy in c:\\users\\schatzm\\miniconda3\\envs\\imqa\\lib\\site-packages (from pyimq==0.1) (1.24.2)\n",
      "Requirement already satisfied: scipy in c:\\users\\schatzm\\miniconda3\\envs\\imqa\\lib\\site-packages (from pyimq==0.1) (1.10.1)\n",
      "Requirement already satisfied: pandas in c:\\users\\schatzm\\miniconda3\\envs\\imqa\\lib\\site-packages (from pyimq==0.1) (1.5.3)\n",
      "Requirement already satisfied: matplotlib in c:\\users\\schatzm\\miniconda3\\envs\\imqa\\lib\\site-packages (from pyimq==0.1) (3.7.0)\n",
      "Requirement already satisfied: importlib-resources>=3.2.0 in c:\\users\\schatzm\\miniconda3\\envs\\imqa\\lib\\site-packages (from matplotlib->pyimq==0.1) (5.12.0)\n",
      "Requirement already satisfied: kiwisolver>=1.0.1 in c:\\users\\schatzm\\miniconda3\\envs\\imqa\\lib\\site-packages (from matplotlib->pyimq==0.1) (1.4.4)\n",
      "Requirement already satisfied: packaging>=20.0 in c:\\users\\schatzm\\miniconda3\\envs\\imqa\\lib\\site-packages (from matplotlib->pyimq==0.1) (23.0)\n",
      "Requirement already satisfied: fonttools>=4.22.0 in c:\\users\\schatzm\\miniconda3\\envs\\imqa\\lib\\site-packages (from matplotlib->pyimq==0.1) (4.38.0)\n",
      "Requirement already satisfied: cycler>=0.10 in c:\\users\\schatzm\\miniconda3\\envs\\imqa\\lib\\site-packages (from matplotlib->pyimq==0.1) (0.11.0)\n",
      "Requirement already satisfied: pyparsing>=2.3.1 in c:\\users\\schatzm\\miniconda3\\envs\\imqa\\lib\\site-packages (from matplotlib->pyimq==0.1) (3.0.9)\n",
      "Requirement already satisfied: contourpy>=1.0.1 in c:\\users\\schatzm\\miniconda3\\envs\\imqa\\lib\\site-packages (from matplotlib->pyimq==0.1) (1.0.7)\n",
      "Requirement already satisfied: python-dateutil>=2.7 in c:\\users\\schatzm\\miniconda3\\envs\\imqa\\lib\\site-packages (from matplotlib->pyimq==0.1) (2.8.2)\n",
      "Requirement already satisfied: pillow>=6.2.0 in c:\\users\\schatzm\\miniconda3\\envs\\imqa\\lib\\site-packages (from matplotlib->pyimq==0.1) (9.4.0)\n",
      "Requirement already satisfied: pytz>=2020.1 in c:\\users\\schatzm\\miniconda3\\envs\\imqa\\lib\\site-packages (from pandas->pyimq==0.1) (2022.7.1)\n",
      "Requirement already satisfied: zipp>=3.1.0 in c:\\users\\schatzm\\miniconda3\\envs\\imqa\\lib\\site-packages (from importlib-resources>=3.2.0->matplotlib->pyimq==0.1) (3.15.0)\n",
      "Requirement already satisfied: six>=1.5 in c:\\users\\schatzm\\miniconda3\\envs\\imqa\\lib\\site-packages (from python-dateutil>=2.7->matplotlib->pyimq==0.1) (1.16.0)\n"
     ]
    },
    {
     "name": "stderr",
     "output_type": "stream",
     "text": [
      "  Running command git clone --filter=blob:none --quiet https://github.com/sakoho81/pyimagequalityranking.git 'C:\\Users\\schatzm\\AppData\\Local\\Temp\\pip-req-build-5nn0if_1'\n"
     ]
    },
    {
     "name": "stdout",
     "output_type": "stream",
     "text": [
      "Requirement already satisfied: seaborn in c:\\users\\schatzm\\miniconda3\\envs\\imqa\\lib\\site-packages (0.12.2)\n",
      "Requirement already satisfied: pandas>=0.25 in c:\\users\\schatzm\\miniconda3\\envs\\imqa\\lib\\site-packages (from seaborn) (1.5.3)\n",
      "Requirement already satisfied: numpy!=1.24.0,>=1.17 in c:\\users\\schatzm\\miniconda3\\envs\\imqa\\lib\\site-packages (from seaborn) (1.24.2)\n",
      "Requirement already satisfied: matplotlib!=3.6.1,>=3.1 in c:\\users\\schatzm\\miniconda3\\envs\\imqa\\lib\\site-packages (from seaborn) (3.7.0)\n",
      "Requirement already satisfied: packaging>=20.0 in c:\\users\\schatzm\\miniconda3\\envs\\imqa\\lib\\site-packages (from matplotlib!=3.6.1,>=3.1->seaborn) (23.0)\n",
      "Requirement already satisfied: python-dateutil>=2.7 in c:\\users\\schatzm\\miniconda3\\envs\\imqa\\lib\\site-packages (from matplotlib!=3.6.1,>=3.1->seaborn) (2.8.2)\n",
      "Requirement already satisfied: pillow>=6.2.0 in c:\\users\\schatzm\\miniconda3\\envs\\imqa\\lib\\site-packages (from matplotlib!=3.6.1,>=3.1->seaborn) (9.4.0)\n",
      "Requirement already satisfied: contourpy>=1.0.1 in c:\\users\\schatzm\\miniconda3\\envs\\imqa\\lib\\site-packages (from matplotlib!=3.6.1,>=3.1->seaborn) (1.0.7)\n",
      "Requirement already satisfied: fonttools>=4.22.0 in c:\\users\\schatzm\\miniconda3\\envs\\imqa\\lib\\site-packages (from matplotlib!=3.6.1,>=3.1->seaborn) (4.38.0)\n",
      "Requirement already satisfied: cycler>=0.10 in c:\\users\\schatzm\\miniconda3\\envs\\imqa\\lib\\site-packages (from matplotlib!=3.6.1,>=3.1->seaborn) (0.11.0)\n",
      "Requirement already satisfied: importlib-resources>=3.2.0 in c:\\users\\schatzm\\miniconda3\\envs\\imqa\\lib\\site-packages (from matplotlib!=3.6.1,>=3.1->seaborn) (5.12.0)\n",
      "Requirement already satisfied: pyparsing>=2.3.1 in c:\\users\\schatzm\\miniconda3\\envs\\imqa\\lib\\site-packages (from matplotlib!=3.6.1,>=3.1->seaborn) (3.0.9)\n",
      "Requirement already satisfied: kiwisolver>=1.0.1 in c:\\users\\schatzm\\miniconda3\\envs\\imqa\\lib\\site-packages (from matplotlib!=3.6.1,>=3.1->seaborn) (1.4.4)\n",
      "Requirement already satisfied: pytz>=2020.1 in c:\\users\\schatzm\\miniconda3\\envs\\imqa\\lib\\site-packages (from pandas>=0.25->seaborn) (2022.7.1)\n",
      "Requirement already satisfied: zipp>=3.1.0 in c:\\users\\schatzm\\miniconda3\\envs\\imqa\\lib\\site-packages (from importlib-resources>=3.2.0->matplotlib!=3.6.1,>=3.1->seaborn) (3.15.0)\n",
      "Requirement already satisfied: six>=1.5 in c:\\users\\schatzm\\miniconda3\\envs\\imqa\\lib\\site-packages (from python-dateutil>=2.7->matplotlib!=3.6.1,>=3.1->seaborn) (1.16.0)\n"
     ]
    }
   ],
   "source": [
    "!pip install git+https://github.com/sakoho81/pyimagequalityranking.git\n",
    "!pip install seaborn"
   ]
  },
  {
   "cell_type": "markdown",
   "metadata": {
    "id": "83G1fCUNA5ET"
   },
   "source": [
    "Apply image quality ranking in analyze and plot mode. The result in form of ranked list will be in csv in subfolder."
   ]
  },
  {
   "cell_type": "code",
   "execution_count": 2,
   "metadata": {
    "colab": {
     "base_uri": "https://localhost:8080/"
    },
    "id": "ZIr2wjwevJnI",
    "outputId": "03d4cbe7-c9bf-4bac-aba6-d305eab21548",
    "tags": []
   },
   "outputs": [
    {
     "name": "stdout",
     "output_type": "stream",
     "text": [
      "Mode option is ['directory', 'analyze', 'plot']\n",
      "Done analyzing channel_0_GFP-PFAC+dsredLNCaP_col_D1-14_F10_1_2012y12m12d_10h00m (55).jpg\n",
      "Done analyzing channel_0_GFP-PFAC+dsredLNCaP_col_D1-14_F10_1_2012y12m12d_10h00m (56).jpg\n",
      "Done analyzing channel_0_GFP-PFAC+dsredLNCaP_col_D1-14_F10_1_2012y12m12d_10h00m (57).jpg\n",
      "The results were saved to data\\2023-02-27_PyIQ_output\\11-54-19_PyIQ_out.csv\n",
      "The results were saved to data\\2023-02-27_PyIQ_output\\11-54-20_PyIQ_analyze_out.csv\n",
      "data\\channel_0_GFP-PFAC+dsredLNCaP_col_D1-14_F10_1_2012y12m12d_10h00m (57).jpg\n",
      "data\\channel_0_GFP-PFAC+dsredLNCaP_col_D1-14_F10_1_2012y12m12d_10h00m (55).jpg\n",
      "data\\channel_0_GFP-PFAC+dsredLNCaP_col_D1-14_F10_1_2012y12m12d_10h00m (55).jpg\n",
      "Figure(640x480)\n",
      "data\\channel_0_GFP-PFAC+dsredLNCaP_col_D1-14_F10_1_2012y12m12d_10h00m (57).jpg\n",
      "data\\channel_0_GFP-PFAC+dsredLNCaP_col_D1-14_F10_1_2012y12m12d_10h00m (55).jpg\n",
      "data\\channel_0_GFP-PFAC+dsredLNCaP_col_D1-14_F10_1_2012y12m12d_10h00m (55).jpg\n",
      "Figure(640x480)\n"
     ]
    }
   ],
   "source": [
    "!pyimq.main --mode=directory --mode=analyze --mode=plot \\\n",
    "--working-directory=data --normalize-power --result=fstd"
   ]
  },
  {
   "cell_type": "markdown",
   "metadata": {
    "id": "GX6FRbQZA0ab"
   },
   "source": [
    "The analysis uses only one parameter, the frequency domain STD, to rank the images, and thus enabling spatial masking is not necessary here. You will see that the out-of-focus images are clearly at the end of the ranking, and the degree of blurriness correlates well with the ranking value.\n",
    "\n",
    "The file 56 is blurred and ranked at the end with fSTD of 241. The in focus images have fSTD of over 3000."
   ]
  },
  {
   "cell_type": "code",
   "execution_count": 3,
   "metadata": {},
   "outputs": [
    {
     "data": {
      "text/html": [
       "<div>\n",
       "<style scoped>\n",
       "    .dataframe tbody tr th:only-of-type {\n",
       "        vertical-align: middle;\n",
       "    }\n",
       "\n",
       "    .dataframe tbody tr th {\n",
       "        vertical-align: top;\n",
       "    }\n",
       "\n",
       "    .dataframe thead th {\n",
       "        text-align: right;\n",
       "    }\n",
       "</style>\n",
       "<table border=\"1\" class=\"dataframe\">\n",
       "  <thead>\n",
       "    <tr style=\"text-align: right;\">\n",
       "      <th></th>\n",
       "      <th>Filename</th>\n",
       "      <th>tEntropy</th>\n",
       "      <th>tBrenner</th>\n",
       "      <th>fMoments</th>\n",
       "      <th>fMean</th>\n",
       "      <th>fSTD</th>\n",
       "      <th>fEntropy</th>\n",
       "      <th>fTh</th>\n",
       "      <th>fMaxPw</th>\n",
       "      <th>Skew</th>\n",
       "      <th>...</th>\n",
       "      <th>SpectMean</th>\n",
       "      <th>SpectSTDNorm</th>\n",
       "      <th>InvSpectSTDNorm</th>\n",
       "      <th>SpectEntNorm</th>\n",
       "      <th>SkewNorm</th>\n",
       "      <th>KurtosisNorm</th>\n",
       "      <th>SpectHighPowerNorm</th>\n",
       "      <th>MeanBinNorm</th>\n",
       "      <th>BrennerNorm</th>\n",
       "      <th>SpectMomentsNorm</th>\n",
       "    </tr>\n",
       "  </thead>\n",
       "  <tbody>\n",
       "    <tr>\n",
       "      <th>0</th>\n",
       "      <td>data\\channel_0_GFP-PFAC+dsredLNCaP_col_D1-14_F...</td>\n",
       "      <td>4.185545</td>\n",
       "      <td>83252847.0</td>\n",
       "      <td>12.331212</td>\n",
       "      <td>9223.657417</td>\n",
       "      <td>3029.685853</td>\n",
       "      <td>5.300221</td>\n",
       "      <td>2.450839e+09</td>\n",
       "      <td>5779.471517</td>\n",
       "      <td>0.172066</td>\n",
       "      <td>...</td>\n",
       "      <td>1.000000</td>\n",
       "      <td>1.000000</td>\n",
       "      <td>0.000000</td>\n",
       "      <td>0.992585</td>\n",
       "      <td>0.326960</td>\n",
       "      <td>0.976780</td>\n",
       "      <td>1.000000</td>\n",
       "      <td>1.000000</td>\n",
       "      <td>1.000000</td>\n",
       "      <td>1.000000</td>\n",
       "    </tr>\n",
       "    <tr>\n",
       "      <th>1</th>\n",
       "      <td>data\\channel_0_GFP-PFAC+dsredLNCaP_col_D1-14_F...</td>\n",
       "      <td>4.255782</td>\n",
       "      <td>83060362.0</td>\n",
       "      <td>12.171656</td>\n",
       "      <td>9075.353960</td>\n",
       "      <td>3014.651531</td>\n",
       "      <td>5.339814</td>\n",
       "      <td>2.450839e+09</td>\n",
       "      <td>5657.012949</td>\n",
       "      <td>0.157995</td>\n",
       "      <td>...</td>\n",
       "      <td>0.983921</td>\n",
       "      <td>0.995038</td>\n",
       "      <td>0.004962</td>\n",
       "      <td>1.000000</td>\n",
       "      <td>0.381998</td>\n",
       "      <td>1.000000</td>\n",
       "      <td>0.978811</td>\n",
       "      <td>0.995474</td>\n",
       "      <td>0.997688</td>\n",
       "      <td>0.987061</td>\n",
       "    </tr>\n",
       "    <tr>\n",
       "      <th>2</th>\n",
       "      <td>data\\channel_0_GFP-PFAC+dsredLNCaP_col_D1-14_F...</td>\n",
       "      <td>2.962749</td>\n",
       "      <td>17055870.0</td>\n",
       "      <td>0.889363</td>\n",
       "      <td>411.841227</td>\n",
       "      <td>241.721119</td>\n",
       "      <td>4.933662</td>\n",
       "      <td>2.675393e+09</td>\n",
       "      <td>178.841464</td>\n",
       "      <td>0.255655</td>\n",
       "      <td>...</td>\n",
       "      <td>0.044651</td>\n",
       "      <td>0.079784</td>\n",
       "      <td>0.920216</td>\n",
       "      <td>0.923939</td>\n",
       "      <td>0.000000</td>\n",
       "      <td>0.603198</td>\n",
       "      <td>0.030944</td>\n",
       "      <td>0.063053</td>\n",
       "      <td>0.204868</td>\n",
       "      <td>0.072123</td>\n",
       "    </tr>\n",
       "  </tbody>\n",
       "</table>\n",
       "<p>3 rows × 24 columns</p>\n",
       "</div>"
      ],
      "text/plain": [
       "                                            Filename  tEntropy    tBrenner  \\\n",
       "0  data\\channel_0_GFP-PFAC+dsredLNCaP_col_D1-14_F...  4.185545  83252847.0   \n",
       "1  data\\channel_0_GFP-PFAC+dsredLNCaP_col_D1-14_F...  4.255782  83060362.0   \n",
       "2  data\\channel_0_GFP-PFAC+dsredLNCaP_col_D1-14_F...  2.962749  17055870.0   \n",
       "\n",
       "    fMoments        fMean         fSTD  fEntropy           fTh       fMaxPw  \\\n",
       "0  12.331212  9223.657417  3029.685853  5.300221  2.450839e+09  5779.471517   \n",
       "1  12.171656  9075.353960  3014.651531  5.339814  2.450839e+09  5657.012949   \n",
       "2   0.889363   411.841227   241.721119  4.933662  2.675393e+09   178.841464   \n",
       "\n",
       "       Skew  ...  SpectMean  SpectSTDNorm  InvSpectSTDNorm  SpectEntNorm  \\\n",
       "0  0.172066  ...   1.000000      1.000000         0.000000      0.992585   \n",
       "1  0.157995  ...   0.983921      0.995038         0.004962      1.000000   \n",
       "2  0.255655  ...   0.044651      0.079784         0.920216      0.923939   \n",
       "\n",
       "   SkewNorm  KurtosisNorm  SpectHighPowerNorm  MeanBinNorm  BrennerNorm  \\\n",
       "0  0.326960      0.976780            1.000000     1.000000     1.000000   \n",
       "1  0.381998      1.000000            0.978811     0.995474     0.997688   \n",
       "2  0.000000      0.603198            0.030944     0.063053     0.204868   \n",
       "\n",
       "   SpectMomentsNorm  \n",
       "0          1.000000  \n",
       "1          0.987061  \n",
       "2          0.072123  \n",
       "\n",
       "[3 rows x 24 columns]"
      ]
     },
     "execution_count": 3,
     "metadata": {},
     "output_type": "execute_result"
    }
   ],
   "source": [
    "import pandas as pd\n",
    "import seaborn as sns\n",
    "\n",
    "# spcify paht to created csv\n",
    "df = pd.read_csv(\"data/2023-02-27_PyIQ_output/11-50-04_PyIQ_analyze_out.csv\");\n",
    "df"
   ]
  },
  {
   "cell_type": "code",
   "execution_count": 4,
   "metadata": {
    "tags": []
   },
   "outputs": [
    {
     "data": {
      "text/plain": [
       "<seaborn.axisgrid.FacetGrid at 0x22c4be06370>"
      ]
     },
     "execution_count": 4,
     "metadata": {},
     "output_type": "execute_result"
    },
    {
     "data": {
      "image/png": "[encoded data removed]",
      "text/plain": [
       "<Figure size 703.75x500 with 1 Axes>"
      ]
     },
     "metadata": {},
     "output_type": "display_data"
    }
   ],
   "source": [
    "sns.set_theme(style=\"whitegrid\")\n",
    "\n",
    "cmap = sns.cubehelix_palette(rot=-.2, as_cmap=True)\n",
    "g = sns.relplot(\n",
    "    data=df,\n",
    "    x=\"fMean\", y=\"fSTD\",\n",
    "    hue=\"fMean\", size=\"fSTD\",\n",
    "    palette=cmap,\n",
    ")\n",
    "g.ax.xaxis.grid(True, \"minor\", linewidth=.25)\n",
    "g.ax.yaxis.grid(True, \"minor\", linewidth=.25)\n",
    "g.despine(left=True, bottom=True)"
   ]
  },
  {
   "cell_type": "code",
   "execution_count": null,
   "metadata": {},
   "outputs": [],
   "source": []
  }
 ],
 "metadata": {
  "colab": {
   "provenance": []
  },
  "kernelspec": {
   "display_name": "Python 3 (ipykernel)",
   "language": "python",
   "name": "python3"
  },
  "language_info": {
   "codemirror_mode": {
    "name": "ipython",
    "version": 3
   },
   "file_extension": ".py",
   "mimetype": "text/x-python",
   "name": "python",
   "nbconvert_exporter": "python",
   "pygments_lexer": "ipython3",
   "version": "3.8.16"
  }
 },
 "nbformat": 4,
 "nbformat_minor": 4
}
