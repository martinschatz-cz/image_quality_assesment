{
  "nbformat": 4,
  "nbformat_minor": 0,
  "metadata": {
    "colab": {
      "provenance": []
    },
    "kernelspec": {
      "name": "python3",
      "display_name": "Python 3"
    },
    "language_info": {
      "name": "python"
    }
  },
  "cells": [
    {
      "cell_type": "markdown",
      "source": [
        "Install pyimagequality ranking package"
      ],
      "metadata": {
        "id": "Xwj56JFgBGpW"
      }
    },
    {
      "cell_type": "code",
      "source": [
        "!pip install pyimq"
      ],
      "metadata": {
        "colab": {
          "base_uri": "https://localhost:8080/"
        },
        "id": "LVg9LeOavGJR",
        "outputId": "0a3b91c0-0b36-4df4-b694-6cce0e3d96b5"
      },
      "execution_count": 1,
      "outputs": [
        {
          "output_type": "stream",
          "name": "stdout",
          "text": [
            "Looking in indexes: https://pypi.org/simple, https://us-python.pkg.dev/colab-wheels/public/simple/\n",
            "Collecting pyimq\n",
            "  Downloading pyimq-0.1.tar.gz (18 kB)\n",
            "  Preparing metadata (setup.py) ... \u001b[?25l\u001b[?25hdone\n",
            "Requirement already satisfied: numpy in /usr/local/lib/python3.8/dist-packages (from pyimq) (1.21.6)\n",
            "Requirement already satisfied: scipy in /usr/local/lib/python3.8/dist-packages (from pyimq) (1.7.3)\n",
            "Requirement already satisfied: pandas in /usr/local/lib/python3.8/dist-packages (from pyimq) (1.3.5)\n",
            "Requirement already satisfied: matplotlib in /usr/local/lib/python3.8/dist-packages (from pyimq) (3.2.2)\n",
            "Requirement already satisfied: kiwisolver>=1.0.1 in /usr/local/lib/python3.8/dist-packages (from matplotlib->pyimq) (1.4.4)\n",
            "Requirement already satisfied: cycler>=0.10 in /usr/local/lib/python3.8/dist-packages (from matplotlib->pyimq) (0.11.0)\n",
            "Requirement already satisfied: python-dateutil>=2.1 in /usr/local/lib/python3.8/dist-packages (from matplotlib->pyimq) (2.8.2)\n",
            "Requirement already satisfied: pyparsing!=2.0.4,!=2.1.2,!=2.1.6,>=2.0.1 in /usr/local/lib/python3.8/dist-packages (from matplotlib->pyimq) (3.0.9)\n",
            "Requirement already satisfied: pytz>=2017.3 in /usr/local/lib/python3.8/dist-packages (from pandas->pyimq) (2022.7)\n",
            "Requirement already satisfied: six>=1.5 in /usr/local/lib/python3.8/dist-packages (from python-dateutil>=2.1->matplotlib->pyimq) (1.15.0)\n",
            "Building wheels for collected packages: pyimq\n",
            "  Building wheel for pyimq (setup.py) ... \u001b[?25l\u001b[?25hdone\n",
            "  Created wheel for pyimq: filename=pyimq-0.1-py3-none-any.whl size=25226 sha256=45253cbb908b1e649a87945772a653cf8e2d5ef5cc55ca91dc85a6582edd51f3\n",
            "  Stored in directory: /root/.cache/pip/wheels/27/ce/f1/aeb7c2de8faa7cdb54a8fa6630c998a2cbe9ea6c23662a08da\n",
            "Successfully built pyimq\n",
            "Installing collected packages: pyimq\n",
            "Successfully installed pyimq-0.1\n"
          ]
        }
      ]
    },
    {
      "cell_type": "markdown",
      "source": [
        "Apply image quality ranking in analyze and plot mode. The result in form of ranked list will be in csv in subfolder."
      ],
      "metadata": {
        "id": "83G1fCUNA5ET"
      }
    },
    {
      "cell_type": "code",
      "source": [
        "!pyimq.main --mode=directory --mode=analyze --mode=plot \\\n",
        "--working-directory=/content/data --normalize-power --result=fstd"
      ],
      "metadata": {
        "colab": {
          "base_uri": "https://localhost:8080/"
        },
        "id": "ZIr2wjwevJnI",
        "outputId": "03d4cbe7-c9bf-4bac-aba6-d305eab21548"
      },
      "execution_count": 2,
      "outputs": [
        {
          "output_type": "stream",
          "name": "stdout",
          "text": [
            "Mode option is ['directory', 'analyze', 'plot']\n",
            "Done analyzing channel_0_GFP-PFAC+dsredLNCaP_col_D1-14_F10_1_2012y12m12d_10h00m (56).jpg\n",
            "Done analyzing channel_0_GFP-PFAC+dsredLNCaP_col_D1-14_F10_1_2012y12m12d_10h00m (57).jpg\n",
            "Done analyzing channel_0_GFP-PFAC+dsredLNCaP_col_D1-14_F10_1_2012y12m12d_10h00m (55).jpg\n",
            "The results were saved to /content/data/2023-02-02_PyIQ_output/12-20-13_PyIQ_out.csv\n",
            "The results were saved to /content/data/2023-02-02_PyIQ_output/12-20-13_PyIQ_analyze_out.csv\n",
            "/content/data/channel_0_GFP-PFAC+dsredLNCaP_col_D1-14_F10_1_2012y12m12d_10h00m (57).jpg\n",
            "/content/data/channel_0_GFP-PFAC+dsredLNCaP_col_D1-14_F10_1_2012y12m12d_10h00m (55).jpg\n",
            "/content/data/channel_0_GFP-PFAC+dsredLNCaP_col_D1-14_F10_1_2012y12m12d_10h00m (55).jpg\n",
            "Figure(640x480)\n",
            "/content/data/channel_0_GFP-PFAC+dsredLNCaP_col_D1-14_F10_1_2012y12m12d_10h00m (57).jpg\n",
            "/content/data/channel_0_GFP-PFAC+dsredLNCaP_col_D1-14_F10_1_2012y12m12d_10h00m (55).jpg\n",
            "/content/data/channel_0_GFP-PFAC+dsredLNCaP_col_D1-14_F10_1_2012y12m12d_10h00m (55).jpg\n",
            "Figure(640x480)\n"
          ]
        }
      ]
    },
    {
      "cell_type": "markdown",
      "source": [
        "The analysis uses only one parameter, the frequency domain STD, to rank the images, and thus enabling spatial masking is not necessary here. You will see that the out-of-focus images are clearly at the end of the ranking, and the degree of blurriness correlates well with the ranking value.\n",
        "\n",
        "The file 56 is blurred and ranked at the end with fSTD of 241. The in focus images have fSTD of over 3000."
      ],
      "metadata": {
        "id": "GX6FRbQZA0ab"
      }
    }
  ]
}